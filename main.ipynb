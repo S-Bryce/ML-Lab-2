{
 "cells": [
  {
   "cell_type": "markdown",
   "metadata": {
    "tags": []
   },
   "source": [
    "# Python Group\n",
    "## Lab Two: Exploring Image Data\n",
    "### Wali Chaudhary, Bryce Shurts, & Alex Wright"
   ]
  },
  {
   "cell_type": "markdown",
   "metadata": {},
   "source": [
    "## 1. Business Understanding\n",
    "\n",
    "# TODO\n",
    "\n",
    "### Citation & Acknowledgement\n",
    "The Hotels Reservation dataset is liscenced under the [GNU General Public License, version 2](https://www.gnu.org/licenses/old-licenses/gpl-2.0.en.html) and was provided by Preet Viradiya on [Kaggle](https://www.kaggle.com/datasets/preetviradiya/brian-tumor-dataset)."
   ]
  },
  {
   "cell_type": "markdown",
   "metadata": {},
   "source": [
    "## 2. Data Preperation"
   ]
  },
  {
   "cell_type": "code",
   "execution_count": 209,
   "metadata": {},
   "outputs": [],
   "source": [
    "# Handle all imports for notebook\n",
    "\n",
    "# Generic list pulled from last project, modify as desired\n",
    "import pandas as pd\n",
    "from pandas import ( DataFrame, Series )\n",
    "import numpy as np\n",
    "from numpy import ndarray\n",
    "import os\n",
    "from os import listdir\n",
    "from os.path import isfile, join\n",
    "import matplotlib\n",
    "import matplotlib.pyplot as plt\n",
    "import seaborn as sns\n",
    "import random\n",
    "from scipy.stats import zscore\n",
    "from sklearn.preprocessing import MinMaxScaler\n",
    "from sklearn.decomposition import PCA\n",
    "from sklearn.ensemble import RandomForestClassifier\n",
    "from sklearn.model_selection import train_test_split"
   ]
  },
  {
   "cell_type": "code",
   "execution_count": 210,
   "metadata": {},
   "outputs": [],
   "source": [
    "df: DataFrame = pd.read_csv(\"metadata.csv\")"
   ]
  },
  {
   "cell_type": "code",
   "execution_count": 211,
   "metadata": {},
   "outputs": [
    {
     "data": {
      "text/html": [
       "<div>\n",
       "<style scoped>\n",
       "    .dataframe tbody tr th:only-of-type {\n",
       "        vertical-align: middle;\n",
       "    }\n",
       "\n",
       "    .dataframe tbody tr th {\n",
       "        vertical-align: top;\n",
       "    }\n",
       "\n",
       "    .dataframe thead th {\n",
       "        text-align: right;\n",
       "    }\n",
       "</style>\n",
       "<table border=\"1\" class=\"dataframe\">\n",
       "  <thead>\n",
       "    <tr style=\"text-align: right;\">\n",
       "      <th></th>\n",
       "      <th>Unnamed: 0</th>\n",
       "      <th>image</th>\n",
       "      <th>class</th>\n",
       "      <th>format</th>\n",
       "      <th>mode</th>\n",
       "      <th>shape</th>\n",
       "    </tr>\n",
       "  </thead>\n",
       "  <tbody>\n",
       "    <tr>\n",
       "      <th>0</th>\n",
       "      <td>0</td>\n",
       "      <td>Cancer (1).jpg</td>\n",
       "      <td>tumor</td>\n",
       "      <td>JPEG</td>\n",
       "      <td>RGB</td>\n",
       "      <td>(512, 512, 3)</td>\n",
       "    </tr>\n",
       "    <tr>\n",
       "      <th>1</th>\n",
       "      <td>1</td>\n",
       "      <td>Cancer (1).png</td>\n",
       "      <td>tumor</td>\n",
       "      <td>PNG</td>\n",
       "      <td>L</td>\n",
       "      <td>(300, 240)</td>\n",
       "    </tr>\n",
       "    <tr>\n",
       "      <th>2</th>\n",
       "      <td>2</td>\n",
       "      <td>Cancer (1).tif</td>\n",
       "      <td>tumor</td>\n",
       "      <td>TIFF</td>\n",
       "      <td>RGB</td>\n",
       "      <td>(256, 256, 3)</td>\n",
       "    </tr>\n",
       "    <tr>\n",
       "      <th>3</th>\n",
       "      <td>3</td>\n",
       "      <td>Cancer (10).jpg</td>\n",
       "      <td>tumor</td>\n",
       "      <td>JPEG</td>\n",
       "      <td>RGB</td>\n",
       "      <td>(512, 512, 3)</td>\n",
       "    </tr>\n",
       "    <tr>\n",
       "      <th>4</th>\n",
       "      <td>4</td>\n",
       "      <td>Cancer (10).tif</td>\n",
       "      <td>tumor</td>\n",
       "      <td>TIFF</td>\n",
       "      <td>RGB</td>\n",
       "      <td>(256, 256, 3)</td>\n",
       "    </tr>\n",
       "  </tbody>\n",
       "</table>\n",
       "</div>"
      ],
      "text/plain": [
       "   Unnamed: 0            image  class format mode          shape\n",
       "0           0   Cancer (1).jpg  tumor   JPEG  RGB  (512, 512, 3)\n",
       "1           1   Cancer (1).png  tumor    PNG    L     (300, 240)\n",
       "2           2   Cancer (1).tif  tumor   TIFF  RGB  (256, 256, 3)\n",
       "3           3  Cancer (10).jpg  tumor   JPEG  RGB  (512, 512, 3)\n",
       "4           4  Cancer (10).tif  tumor   TIFF  RGB  (256, 256, 3)"
      ]
     },
     "execution_count": 211,
     "metadata": {},
     "output_type": "execute_result"
    }
   ],
   "source": [
    "df.head()"
   ]
  },
  {
   "cell_type": "markdown",
   "metadata": {},
   "source": [
    "Immediately we can see that we have an unnamed title with a set of IDS, which can be safely removed"
   ]
  },
  {
   "cell_type": "code",
   "execution_count": 212,
   "metadata": {},
   "outputs": [
    {
     "data": {
      "text/html": [
       "<div>\n",
       "<style scoped>\n",
       "    .dataframe tbody tr th:only-of-type {\n",
       "        vertical-align: middle;\n",
       "    }\n",
       "\n",
       "    .dataframe tbody tr th {\n",
       "        vertical-align: top;\n",
       "    }\n",
       "\n",
       "    .dataframe thead th {\n",
       "        text-align: right;\n",
       "    }\n",
       "</style>\n",
       "<table border=\"1\" class=\"dataframe\">\n",
       "  <thead>\n",
       "    <tr style=\"text-align: right;\">\n",
       "      <th></th>\n",
       "      <th>image</th>\n",
       "      <th>class</th>\n",
       "      <th>format</th>\n",
       "      <th>mode</th>\n",
       "      <th>shape</th>\n",
       "    </tr>\n",
       "  </thead>\n",
       "  <tbody>\n",
       "    <tr>\n",
       "      <th>0</th>\n",
       "      <td>Cancer (1).jpg</td>\n",
       "      <td>tumor</td>\n",
       "      <td>JPEG</td>\n",
       "      <td>RGB</td>\n",
       "      <td>(512, 512, 3)</td>\n",
       "    </tr>\n",
       "    <tr>\n",
       "      <th>1</th>\n",
       "      <td>Cancer (1).png</td>\n",
       "      <td>tumor</td>\n",
       "      <td>PNG</td>\n",
       "      <td>L</td>\n",
       "      <td>(300, 240)</td>\n",
       "    </tr>\n",
       "    <tr>\n",
       "      <th>2</th>\n",
       "      <td>Cancer (1).tif</td>\n",
       "      <td>tumor</td>\n",
       "      <td>TIFF</td>\n",
       "      <td>RGB</td>\n",
       "      <td>(256, 256, 3)</td>\n",
       "    </tr>\n",
       "    <tr>\n",
       "      <th>3</th>\n",
       "      <td>Cancer (10).jpg</td>\n",
       "      <td>tumor</td>\n",
       "      <td>JPEG</td>\n",
       "      <td>RGB</td>\n",
       "      <td>(512, 512, 3)</td>\n",
       "    </tr>\n",
       "    <tr>\n",
       "      <th>4</th>\n",
       "      <td>Cancer (10).tif</td>\n",
       "      <td>tumor</td>\n",
       "      <td>TIFF</td>\n",
       "      <td>RGB</td>\n",
       "      <td>(256, 256, 3)</td>\n",
       "    </tr>\n",
       "  </tbody>\n",
       "</table>\n",
       "</div>"
      ],
      "text/plain": [
       "             image  class format mode          shape\n",
       "0   Cancer (1).jpg  tumor   JPEG  RGB  (512, 512, 3)\n",
       "1   Cancer (1).png  tumor    PNG    L     (300, 240)\n",
       "2   Cancer (1).tif  tumor   TIFF  RGB  (256, 256, 3)\n",
       "3  Cancer (10).jpg  tumor   JPEG  RGB  (512, 512, 3)\n",
       "4  Cancer (10).tif  tumor   TIFF  RGB  (256, 256, 3)"
      ]
     },
     "execution_count": 212,
     "metadata": {},
     "output_type": "execute_result"
    }
   ],
   "source": [
    "df.drop(\"Unnamed: 0\", axis=1, inplace=True)\n",
    "df.head()"
   ]
  },
  {
   "cell_type": "markdown",
   "metadata": {},
   "source": [
    "It looks like the images are not particularly uniform in composition. Let's investigate further."
   ]
  },
  {
   "cell_type": "code",
   "execution_count": 213,
   "metadata": {},
   "outputs": [
    {
     "name": "stdout",
     "output_type": "stream",
     "text": [
      "Resolutions by count:\n",
      " (512, 512, 3)    884\n",
      "(225, 225, 3)    364\n",
      "(630, 630, 3)    126\n",
      "(256, 256, 3)    105\n",
      "(236, 236, 3)     89\n",
      "                ... \n",
      "(201, 236, 3)      1\n",
      "(222, 233, 3)      1\n",
      "(294, 236, 3)      1\n",
      "(244, 235, 3)      1\n",
      "(454, 442, 4)      1\n",
      "Name: shape, Length: 475, dtype: int64\n"
     ]
    },
    {
     "data": {
      "image/png": "[encoded data removed]",
      "text/plain": [
       "<Figure size 640x480 with 2 Axes>"
      ]
     },
     "metadata": {},
     "output_type": "display_data"
    }
   ],
   "source": [
    "fig, ax = plt.subplots(1,2)\n",
    "sns.countplot(x=\"format\", data=df, ax=ax[0])\n",
    "sns.countplot(x=\"mode\", data=df, ax=ax[1])\n",
    "print(\"Resolutions by count:\\n\", df[\"shape\"].value_counts())\n",
    "# Way too many resolutions to plot...\n",
    "#sns.countplot(x=\"shape\", data=df, ax=ax[2])\n",
    "plt.show()"
   ]
  },
  {
   "cell_type": "markdown",
   "metadata": {},
   "source": [
    "We can see that we have a few different images that are not in the JPEG format and/or are not using the RGB color mode, which are both the most common. Since conversions would be computationally expensive and lossy, and since the number of images that are in the wrong format is relatively few, they will be dropped."
   ]
  },
  {
   "cell_type": "code",
   "execution_count": 214,
   "metadata": {},
   "outputs": [],
   "source": [
    "bad_columns = df[(df[\"format\"] != \"JPEG\") | (df[\"mode\"] != \"RGB\") | ((df[\"shape\"] != \"(512, 512, 3)\") & (df[\"shape\"] != \"(256, 256, 3)\") & (df[\"shape\"] != \"(225, 225, 3)\") & (df[\"shape\"] != \"(630, 630, 3)\") & (df[\"shape\"] != \"(236, 236, 3)\"))]\n",
    "df.drop(bad_columns.index, inplace=True)\n",
    "bad_columns = bad_columns[\"image\"] # For later deletion"
   ]
  },
  {
   "cell_type": "code",
   "execution_count": 216,
   "metadata": {},
   "outputs": [
    {
     "name": "stdout",
     "output_type": "stream",
     "text": [
      "1              Cancer (1).png\n",
      "2              Cancer (1).tif\n",
      "4             Cancer (10).tif\n",
      "6           Cancer (1000).jpg\n",
      "7           Cancer (1001).jpg\n",
      "                ...          \n",
      "4595    Not Cancer  (995).jpg\n",
      "4596    Not Cancer  (996).jpg\n",
      "4597    Not Cancer  (997).jpg\n",
      "4598    Not Cancer  (998).jpg\n",
      "4599    Not Cancer  (999).jpg\n",
      "Name: image, Length: 3118, dtype: object\n"
     ]
    }
   ],
   "source": [
    "print(bad_columns)"
   ]
  },
  {
   "cell_type": "code",
   "execution_count": 217,
   "metadata": {},
   "outputs": [],
   "source": [
    "files = [file for file in listdir(\"Brain Tumor Data Set/Brain Tumor/\") if isfile(join(\"Brain Tumor Data Set/Brain Tumor/\", file))] + [file for file in listdir(\"Brain Tumor Data Set/Healthy/\") if isfile(join(\"Brain Tumor Data Set/Healthy/\", file))]\n",
    "bad_files = [file for file in files if file in bad_columns.tolist()]\n",
    "for file in bad_files:\n",
    "    if \"Not\" in file:\n",
    "        os.remove(join(\"Brain Tumor Data Set/Healthy/\", file))\n",
    "    else:\n",
    "        os.remove(join(\"Brain Tumor Data Set/Brain Tumor/\", file))"
   ]
  },
  {
   "cell_type": "code",
   "execution_count": 218,
   "metadata": {},
   "outputs": [
    {
     "name": "stdout",
     "output_type": "stream",
     "text": [
      "<class 'pandas.core.frame.DataFrame'>\n",
      "Int64Index: 1482 entries, 0 to 4585\n",
      "Data columns (total 5 columns):\n",
      " #   Column  Non-Null Count  Dtype \n",
      "---  ------  --------------  ----- \n",
      " 0   image   1482 non-null   object\n",
      " 1   class   1482 non-null   object\n",
      " 2   format  1482 non-null   object\n",
      " 3   mode    1482 non-null   object\n",
      " 4   shape   1482 non-null   object\n",
      "dtypes: object(5)\n",
      "memory usage: 69.5+ KB\n"
     ]
    }
   ],
   "source": [
    "# Define data types\n",
    "df.info()"
   ]
  },
  {
   "cell_type": "code",
   "execution_count": 221,
   "metadata": {},
   "outputs": [],
   "source": [
    "# Thoughts on what to do with resolutions? I say convert all to the smallest dimension (225x225) and then delete everything else\n",
    "from skimage.transform import resize\n",
    "from matplotlib import image\n",
    "\n",
    "cancer_images = []\n",
    "healthy_images = []\n",
    "images = [file for file in listdir(\"Brain Tumor Data Set/Brain Tumor/\") if isfile(join(\"Brain Tumor Data Set/Brain Tumor/\", file))] + [file for file in listdir(\"Brain Tumor Data Set/Healthy/\") if isfile(join(\"Brain Tumor Data Set/Healthy/\", file))]\n",
    "for image in images:\n",
    "    if \"Not\" in image:\n",
    "        cancer_images.append(plt.imread(join(\"Brain Tumor Data Set/Healthy/\", image)))\n",
    "    else:\n",
    "        healthy_images.append(plt.imread(join(\"Brain Tumor Data Set/Brain Tumor/\", image)))"
   ]
  },
  {
   "cell_type": "code",
   "execution_count": null,
   "metadata": {},
   "outputs": [],
   "source": []
  }
 ],
 "metadata": {
  "kernelspec": {
   "display_name": "Python 3 (ipykernel)",
   "language": "python",
   "name": "python3"
  },
  "language_info": {
   "codemirror_mode": {
    "name": "ipython",
    "version": 3
   },
   "file_extension": ".py",
   "mimetype": "text/x-python",
   "name": "python",
   "nbconvert_exporter": "python",
   "pygments_lexer": "ipython3",
   "version": "3.9.13"
  },
  "vscode": {
   "interpreter": {
    "hash": "aee8b7b246df8f9039afb4144a1f6fd8d2ca17a180786b69acc140d282b71a49"
   }
  }
 },
 "nbformat": 4,
 "nbformat_minor": 4
}
